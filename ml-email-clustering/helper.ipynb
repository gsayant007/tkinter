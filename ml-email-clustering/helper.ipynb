{
 "cells": [
  {
   "cell_type": "code",
   "execution_count": 1,
   "metadata": {},
   "outputs": [],
   "source": [
    "import pandas as pd\n",
    "import numpy as np\n",
    "import matplotlib.pyplot as plt"
   ]
  },
  {
   "cell_type": "code",
   "execution_count": 4,
   "metadata": {},
   "outputs": [
    {
     "data": {
      "text/plain": [
       "Unnamed: 0                                                    0\n",
       "file                                      allen-p/_sent_mail/1.\n",
       "message       Message-ID: <18782981.1075855378110.JavaMail.e...\n",
       "Name: 0, dtype: object"
      ]
     },
     "execution_count": 4,
     "metadata": {},
     "output_type": "execute_result"
    }
   ],
   "source": [
    "df_emails = pd.read_csv(\"./split_emails.csv\")\n",
    "df_emails = df_emails.iloc[0]\n",
    "df_emails"
   ]
  },
  {
   "cell_type": "code",
   "execution_count": 8,
   "metadata": {},
   "outputs": [
    {
     "name": "stdout",
     "output_type": "stream",
     "text": [
      "Message-ID: <18782981.1075855378110.JavaMail.evans@thyme>\n",
      "Date: Mon, 14 May 2001 16:39:00 -0700 (PDT)\n",
      "From: phillip.allen@enron.com\n",
      "To: tim.belden@enron.com\n",
      "Subject: \n",
      "Mime-Version: 1.0\n",
      "Content-Type: text/plain; charset=us-ascii\n",
      "Content-Transfer-Encoding: 7bit\n",
      "X-From: Phillip K Allen\n",
      "X-To: Tim Belden <Tim Belden/Enron@EnronXGate>\n",
      "X-cc: \n",
      "X-bcc: \n",
      "X-Folder: \\Phillip_Allen_Jan2002_1\\Allen, Phillip K.\\'Sent Mail\n",
      "X-Origin: Allen-P\n",
      "X-FileName: pallen (Non-Privileged).pst\n",
      "\n",
      "Here is our forecast\n",
      "\n",
      " \n"
     ]
    }
   ],
   "source": [
    "print(df_emails.values[2])"
   ]
  },
  {
   "cell_type": "code",
   "execution_count": 29,
   "metadata": {},
   "outputs": [
    {
     "name": "stdout",
     "output_type": "stream",
     "text": [
      " phillip.allen@enron.com\n",
      " tim.belden@enron.com\n"
     ]
    }
   ],
   "source": [
    "s = df_emails.values[2]\n",
    "msg = list(filter(\n",
    "    lambda x:len(x.strip())!=0,s.splitlines()\n",
    "))\n",
    "msg = list(filter(lambda x:x if \"From:\" in x or \"To:\" in x else None,msg))\n",
    "sender = msg[0].split(\":\")[1]\n",
    "receiver = msg[1].split(\":\")[1]\n",
    "print(sender)\n",
    "print(receiver)"
   ]
  },
  {
   "cell_type": "code",
   "execution_count": 31,
   "metadata": {},
   "outputs": [],
   "source": [
    "def parse_raw_message(raw_message:str)->dict:\n",
    "    \"\"\"this function parse each of the emails and output sender and receiver\"\"\"\n",
    "    email = {}\n",
    "    msg = list(filter(lambda x:len(x.strip())!=0,raw_message.splitlines()))\n",
    "    msg = list(filter(lambda x:x if \"From:\" in x or \"To:\" in x else None,msg))\n",
    "    sender = msg[0].split(\":\")[1]\n",
    "    receiver = msg[1].split(\":\")[1]\n",
    "    email[\"from_\"] = sender\n",
    "    email[\"to\"] = receiver\n",
    "    return email"
   ]
  },
  {
   "cell_type": "code",
   "execution_count": null,
   "metadata": {},
   "outputs": [],
   "source": []
  }
 ],
 "metadata": {
  "kernelspec": {
   "display_name": "Python 3",
   "language": "python",
   "name": "python3"
  },
  "language_info": {
   "codemirror_mode": {
    "name": "ipython",
    "version": 3
   },
   "file_extension": ".py",
   "mimetype": "text/x-python",
   "name": "python",
   "nbconvert_exporter": "python",
   "pygments_lexer": "ipython3",
   "version": "3.10.13"
  }
 },
 "nbformat": 4,
 "nbformat_minor": 2
}
