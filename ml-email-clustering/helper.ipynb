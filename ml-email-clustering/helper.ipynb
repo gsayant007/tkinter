{
 "cells": [
  {
   "cell_type": "code",
   "execution_count": 1,
   "metadata": {},
   "outputs": [],
   "source": [
    "import pandas as pd\n",
    "import numpy as np\n",
    "import matplotlib.pyplot as plt"
   ]
  },
  {
   "cell_type": "code",
   "execution_count": 32,
   "metadata": {},
   "outputs": [
    {
     "data": {
      "text/plain": [
       "Unnamed: 0                                                    1\n",
       "file                                     allen-p/_sent_mail/10.\n",
       "message       Message-ID: <15464986.1075855378456.JavaMail.e...\n",
       "Name: 1, dtype: object"
      ]
     },
     "execution_count": 32,
     "metadata": {},
     "output_type": "execute_result"
    }
   ],
   "source": [
    "df_emails = pd.read_csv(\"./split_emails.csv\")\n",
    "df_emails = df_emails.iloc[1]\n",
    "df_emails"
   ]
  },
  {
   "cell_type": "code",
   "execution_count": 45,
   "metadata": {},
   "outputs": [
    {
     "data": {
      "text/plain": [
       "['',\n",
       " 'Traveling to have a business meeting takes the fun out of the trip.  Especially if you have to prepare a presentation.  I would suggest holding the business plan meetings here then take a trip without any formal business meetings.  I would even try and get some honest opinions on whether a trip is even desired or necessary.',\n",
       " '',\n",
       " 'As far as the business meetings, I think it would be more productive to try and stimulate discussions across the different groups about what is working and what is not.  Too often the presenter speaks and the others are quiet just waiting for their turn.   The meetings might be better if held in a round table discussion format.  ',\n",
       " '',\n",
       " \"My suggestion for where to go is Austin.  Play golf and rent a ski boat and jet ski's.  Flying somewhere takes too much time.\"]"
      ]
     },
     "execution_count": 45,
     "metadata": {},
     "output_type": "execute_result"
    }
   ],
   "source": [
    "df_emails.values[2][df_emails.values[2].find(\"X-FileName\"):].splitlines()[1:]"
   ]
  },
  {
   "cell_type": "code",
   "execution_count": 50,
   "metadata": {},
   "outputs": [
    {
     "name": "stdout",
     "output_type": "stream",
     "text": [
      " phillip.allen@enron.com\n",
      " john.lavorato@enron.com\n"
     ]
    },
    {
     "data": {
      "text/plain": [
       "\"Traveling to have a business meeting takes the fun out of the trip.  Especially if you have to prepare a presentation.  I would suggest holding the business plan meetings here then take a trip without any formal business meetings.  I would even try and get some honest opinions on whether a trip is even desired or necessary.As far as the business meetings, I think it would be more productive to try and stimulate discussions across the different groups about what is working and what is not.  Too often the presenter speaks and the others are quiet just waiting for their turn.   The meetings might be better if held in a round table discussion format.  My suggestion for where to go is Austin.  Play golf and rent a ski boat and jet ski's.  Flying somewhere takes too much time.\""
      ]
     },
     "execution_count": 50,
     "metadata": {},
     "output_type": "execute_result"
    }
   ],
   "source": [
    "s = df_emails.values[2]\n",
    "msg = list(filter(lambda x:len(x.strip())!=0,s.splitlines()))\n",
    "message = list(filter(lambda x:len(x.strip())!=0,s[s.find(\"X-FileName\"):].splitlines()[1:]))\n",
    "msg = list(filter(lambda x:x if \"From:\" in x or \"To:\" in x else None,msg))\n",
    "sender = msg[0].split(\":\")[1]\n",
    "receiver = msg[1].split(\":\")[1]\n",
    "print(sender)\n",
    "print(receiver)\n",
    "\"\".join(message)"
   ]
  },
  {
   "cell_type": "code",
   "execution_count": 52,
   "metadata": {},
   "outputs": [
    {
     "data": {
      "text/plain": [
       "{'from_': ' phillip.allen@enron.com',\n",
       " 'to': ' john.lavorato@enron.com',\n",
       " 'body': \"Traveling to have a business meeting takes the fun out of the trip.  Especially if you have to prepare a presentation.  I would suggest holding the business plan meetings here then take a trip without any formal business meetings.  I would even try and get some honest opinions on whether a trip is even desired or necessary.As far as the business meetings, I think it would be more productive to try and stimulate discussions across the different groups about what is working and what is not.  Too often the presenter speaks and the others are quiet just waiting for their turn.   The meetings might be better if held in a round table discussion format.  My suggestion for where to go is Austin.  Play golf and rent a ski boat and jet ski's.  Flying somewhere takes too much time.\"}"
      ]
     },
     "execution_count": 52,
     "metadata": {},
     "output_type": "execute_result"
    }
   ],
   "source": [
    "def parse_raw_message(raw_message:str)->dict:\n",
    "    \"\"\"this function parse each of the emails and output sender and receiver\"\"\"\n",
    "    email = {}\n",
    "    msg = list(filter(lambda x:len(x.strip())!=0,raw_message.splitlines()))\n",
    "    message = \"\".join(list(filter(lambda x:len(x.strip())!=0,raw_message[raw_message.find(\"X-FileName\"):].splitlines()[1:])))\n",
    "    msg = list(filter(lambda x:x if \"From:\" in x or \"To:\" in x else None,msg))\n",
    "    sender = msg[0].split(\":\")[1]\n",
    "    receiver = msg[1].split(\":\")[1]\n",
    "    email[\"from_\"] = sender\n",
    "    email[\"to\"] = receiver\n",
    "    email[\"body\"] = message\n",
    "    return email\n",
    "\n",
    "parse_raw_message(df_emails.values[2])"
   ]
  },
  {
   "cell_type": "code",
   "execution_count": null,
   "metadata": {},
   "outputs": [],
   "source": []
  },
  {
   "cell_type": "code",
   "execution_count": null,
   "metadata": {},
   "outputs": [],
   "source": []
  }
 ],
 "metadata": {
  "kernelspec": {
   "display_name": "Python 3",
   "language": "python",
   "name": "python3"
  },
  "language_info": {
   "codemirror_mode": {
    "name": "ipython",
    "version": 3
   },
   "file_extension": ".py",
   "mimetype": "text/x-python",
   "name": "python",
   "nbconvert_exporter": "python",
   "pygments_lexer": "ipython3",
   "version": "3.10.13"
  }
 },
 "nbformat": 4,
 "nbformat_minor": 2
}
