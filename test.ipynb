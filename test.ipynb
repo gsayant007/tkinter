{
 "cells": [
  {
   "cell_type": "code",
   "execution_count": 3,
   "id": "05b3daa3-f5c2-4770-b136-6c504129fa54",
   "metadata": {},
   "outputs": [],
   "source": [
    "from mlxtend.frequent_patterns import apriori,association_rules"
   ]
  },
  {
   "cell_type": "code",
   "execution_count": 4,
   "id": "64ebf3df-4f53-43d1-945e-8bd98dc593a4",
   "metadata": {},
   "outputs": [
    {
     "ename": "Forbidden",
     "evalue": "403 POST https://bigquery.googleapis.com/bigquery/v2/projects/ford-82e2b9bf5ee42f7db2a764b1/jobs?prettyPrint=false: Access Denied: Project ford-82e2b9bf5ee42f7db2a764b1: User does not have bigquery.jobs.create permission in project ford-82e2b9bf5ee42f7db2a764b1.\n\nLocation: None\nJob ID: c3a10751-fc91-423f-aa98-a77a71f5b330\n",
     "output_type": "error",
     "traceback": [
      "\u001b[0;31m---------------------------------------------------------------------------\u001b[0m",
      "\u001b[0;31mForbidden\u001b[0m                                 Traceback (most recent call last)",
      "\u001b[0;32m/tmp/ipykernel_2698/1085721441.py\u001b[0m in \u001b[0;36m<module>\u001b[0;34m\u001b[0m\n\u001b[1;32m      5\u001b[0m \"\"\"\n\u001b[1;32m      6\u001b[0m \u001b[0;34m\u001b[0m\u001b[0m\n\u001b[0;32m----> 7\u001b[0;31m \u001b[0mdf\u001b[0m \u001b[0;34m=\u001b[0m \u001b[0mclient\u001b[0m\u001b[0;34m.\u001b[0m\u001b[0mquery\u001b[0m\u001b[0;34m(\u001b[0m\u001b[0msql\u001b[0m\u001b[0;34m)\u001b[0m\u001b[0;34m.\u001b[0m\u001b[0mto_dataframe\u001b[0m\u001b[0;34m(\u001b[0m\u001b[0;34m)\u001b[0m\u001b[0;34m\u001b[0m\u001b[0;34m\u001b[0m\u001b[0m\n\u001b[0m",
      "\u001b[0;32m/opt/conda/lib/python3.7/site-packages/google/cloud/bigquery/client.py\u001b[0m in \u001b[0;36mquery\u001b[0;34m(self, query, job_config, job_id, job_id_prefix, location, project, retry, timeout, job_retry, api_method)\u001b[0m\n\u001b[1;32m   3342\u001b[0m                 \u001b[0mretry\u001b[0m\u001b[0;34m,\u001b[0m\u001b[0;34m\u001b[0m\u001b[0;34m\u001b[0m\u001b[0m\n\u001b[1;32m   3343\u001b[0m                 \u001b[0mtimeout\u001b[0m\u001b[0;34m,\u001b[0m\u001b[0;34m\u001b[0m\u001b[0;34m\u001b[0m\u001b[0m\n\u001b[0;32m-> 3344\u001b[0;31m                 \u001b[0mjob_retry\u001b[0m\u001b[0;34m,\u001b[0m\u001b[0;34m\u001b[0m\u001b[0;34m\u001b[0m\u001b[0m\n\u001b[0m\u001b[1;32m   3345\u001b[0m             )\n\u001b[1;32m   3346\u001b[0m         \u001b[0;32melse\u001b[0m\u001b[0;34m:\u001b[0m\u001b[0;34m\u001b[0m\u001b[0;34m\u001b[0m\u001b[0m\n",
      "\u001b[0;32m/opt/conda/lib/python3.7/site-packages/google/cloud/bigquery/_job_helpers.py\u001b[0m in \u001b[0;36mquery_jobs_insert\u001b[0;34m(client, query, job_config, job_id, job_id_prefix, location, project, retry, timeout, job_retry)\u001b[0m\n\u001b[1;32m    112\u001b[0m             \u001b[0;32mreturn\u001b[0m \u001b[0mquery_job\u001b[0m\u001b[0;34m\u001b[0m\u001b[0;34m\u001b[0m\u001b[0m\n\u001b[1;32m    113\u001b[0m \u001b[0;34m\u001b[0m\u001b[0m\n\u001b[0;32m--> 114\u001b[0;31m     \u001b[0mfuture\u001b[0m \u001b[0;34m=\u001b[0m \u001b[0mdo_query\u001b[0m\u001b[0;34m(\u001b[0m\u001b[0;34m)\u001b[0m\u001b[0;34m\u001b[0m\u001b[0;34m\u001b[0m\u001b[0m\n\u001b[0m\u001b[1;32m    115\u001b[0m     \u001b[0;31m# The future might be in a failed state now, but if it's\u001b[0m\u001b[0;34m\u001b[0m\u001b[0;34m\u001b[0m\u001b[0;34m\u001b[0m\u001b[0m\n\u001b[1;32m    116\u001b[0m     \u001b[0;31m# unrecoverable, we'll find out when we ask for it's result, at which\u001b[0m\u001b[0;34m\u001b[0m\u001b[0;34m\u001b[0m\u001b[0;34m\u001b[0m\u001b[0m\n",
      "\u001b[0;32m/opt/conda/lib/python3.7/site-packages/google/cloud/bigquery/_job_helpers.py\u001b[0m in \u001b[0;36mdo_query\u001b[0;34m()\u001b[0m\n\u001b[1;32m     89\u001b[0m \u001b[0;34m\u001b[0m\u001b[0m\n\u001b[1;32m     90\u001b[0m         \u001b[0;32mtry\u001b[0m\u001b[0;34m:\u001b[0m\u001b[0;34m\u001b[0m\u001b[0;34m\u001b[0m\u001b[0m\n\u001b[0;32m---> 91\u001b[0;31m             \u001b[0mquery_job\u001b[0m\u001b[0;34m.\u001b[0m\u001b[0m_begin\u001b[0m\u001b[0;34m(\u001b[0m\u001b[0mretry\u001b[0m\u001b[0;34m=\u001b[0m\u001b[0mretry\u001b[0m\u001b[0;34m,\u001b[0m \u001b[0mtimeout\u001b[0m\u001b[0;34m=\u001b[0m\u001b[0mtimeout\u001b[0m\u001b[0;34m)\u001b[0m\u001b[0;34m\u001b[0m\u001b[0;34m\u001b[0m\u001b[0m\n\u001b[0m\u001b[1;32m     92\u001b[0m         \u001b[0;32mexcept\u001b[0m \u001b[0mcore_exceptions\u001b[0m\u001b[0;34m.\u001b[0m\u001b[0mConflict\u001b[0m \u001b[0;32mas\u001b[0m \u001b[0mcreate_exc\u001b[0m\u001b[0;34m:\u001b[0m\u001b[0;34m\u001b[0m\u001b[0;34m\u001b[0m\u001b[0m\n\u001b[1;32m     93\u001b[0m             \u001b[0;31m# The thought is if someone is providing their own job IDs and they get\u001b[0m\u001b[0;34m\u001b[0m\u001b[0;34m\u001b[0m\u001b[0;34m\u001b[0m\u001b[0m\n",
      "\u001b[0;32m/opt/conda/lib/python3.7/site-packages/google/cloud/bigquery/job/query.py\u001b[0m in \u001b[0;36m_begin\u001b[0;34m(self, client, retry, timeout)\u001b[0m\n\u001b[1;32m   1296\u001b[0m \u001b[0;34m\u001b[0m\u001b[0m\n\u001b[1;32m   1297\u001b[0m         \u001b[0;32mtry\u001b[0m\u001b[0;34m:\u001b[0m\u001b[0;34m\u001b[0m\u001b[0;34m\u001b[0m\u001b[0m\n\u001b[0;32m-> 1298\u001b[0;31m             \u001b[0msuper\u001b[0m\u001b[0;34m(\u001b[0m\u001b[0mQueryJob\u001b[0m\u001b[0;34m,\u001b[0m \u001b[0mself\u001b[0m\u001b[0;34m)\u001b[0m\u001b[0;34m.\u001b[0m\u001b[0m_begin\u001b[0m\u001b[0;34m(\u001b[0m\u001b[0mclient\u001b[0m\u001b[0;34m=\u001b[0m\u001b[0mclient\u001b[0m\u001b[0;34m,\u001b[0m \u001b[0mretry\u001b[0m\u001b[0;34m=\u001b[0m\u001b[0mretry\u001b[0m\u001b[0;34m,\u001b[0m \u001b[0mtimeout\u001b[0m\u001b[0;34m=\u001b[0m\u001b[0mtimeout\u001b[0m\u001b[0;34m)\u001b[0m\u001b[0;34m\u001b[0m\u001b[0;34m\u001b[0m\u001b[0m\n\u001b[0m\u001b[1;32m   1299\u001b[0m         \u001b[0;32mexcept\u001b[0m \u001b[0mexceptions\u001b[0m\u001b[0;34m.\u001b[0m\u001b[0mGoogleAPICallError\u001b[0m \u001b[0;32mas\u001b[0m \u001b[0mexc\u001b[0m\u001b[0;34m:\u001b[0m\u001b[0;34m\u001b[0m\u001b[0;34m\u001b[0m\u001b[0m\n\u001b[1;32m   1300\u001b[0m             exc.message = _EXCEPTION_FOOTER_TEMPLATE.format(\n",
      "\u001b[0;32m/opt/conda/lib/python3.7/site-packages/google/cloud/bigquery/job/base.py\u001b[0m in \u001b[0;36m_begin\u001b[0;34m(self, client, retry, timeout)\u001b[0m\n\u001b[1;32m    516\u001b[0m             \u001b[0mpath\u001b[0m\u001b[0;34m=\u001b[0m\u001b[0mpath\u001b[0m\u001b[0;34m,\u001b[0m\u001b[0;34m\u001b[0m\u001b[0;34m\u001b[0m\u001b[0m\n\u001b[1;32m    517\u001b[0m             \u001b[0mdata\u001b[0m\u001b[0;34m=\u001b[0m\u001b[0mself\u001b[0m\u001b[0;34m.\u001b[0m\u001b[0mto_api_repr\u001b[0m\u001b[0;34m(\u001b[0m\u001b[0;34m)\u001b[0m\u001b[0;34m,\u001b[0m\u001b[0;34m\u001b[0m\u001b[0;34m\u001b[0m\u001b[0m\n\u001b[0;32m--> 518\u001b[0;31m             \u001b[0mtimeout\u001b[0m\u001b[0;34m=\u001b[0m\u001b[0mtimeout\u001b[0m\u001b[0;34m,\u001b[0m\u001b[0;34m\u001b[0m\u001b[0;34m\u001b[0m\u001b[0m\n\u001b[0m\u001b[1;32m    519\u001b[0m         )\n\u001b[1;32m    520\u001b[0m         \u001b[0mself\u001b[0m\u001b[0;34m.\u001b[0m\u001b[0m_set_properties\u001b[0m\u001b[0;34m(\u001b[0m\u001b[0mapi_response\u001b[0m\u001b[0;34m)\u001b[0m\u001b[0;34m\u001b[0m\u001b[0;34m\u001b[0m\u001b[0m\n",
      "\u001b[0;32m/opt/conda/lib/python3.7/site-packages/google/cloud/bigquery/client.py\u001b[0m in \u001b[0;36m_call_api\u001b[0;34m(self, retry, span_name, span_attributes, job_ref, headers, **kwargs)\u001b[0m\n\u001b[1;32m    757\u001b[0m                 \u001b[0mname\u001b[0m\u001b[0;34m=\u001b[0m\u001b[0mspan_name\u001b[0m\u001b[0;34m,\u001b[0m \u001b[0mattributes\u001b[0m\u001b[0;34m=\u001b[0m\u001b[0mspan_attributes\u001b[0m\u001b[0;34m,\u001b[0m \u001b[0mclient\u001b[0m\u001b[0;34m=\u001b[0m\u001b[0mself\u001b[0m\u001b[0;34m,\u001b[0m \u001b[0mjob_ref\u001b[0m\u001b[0;34m=\u001b[0m\u001b[0mjob_ref\u001b[0m\u001b[0;34m\u001b[0m\u001b[0;34m\u001b[0m\u001b[0m\n\u001b[1;32m    758\u001b[0m             ):\n\u001b[0;32m--> 759\u001b[0;31m                 \u001b[0;32mreturn\u001b[0m \u001b[0mcall\u001b[0m\u001b[0;34m(\u001b[0m\u001b[0;34m)\u001b[0m\u001b[0;34m\u001b[0m\u001b[0;34m\u001b[0m\u001b[0m\n\u001b[0m\u001b[1;32m    760\u001b[0m \u001b[0;34m\u001b[0m\u001b[0m\n\u001b[1;32m    761\u001b[0m         \u001b[0;32mreturn\u001b[0m \u001b[0mcall\u001b[0m\u001b[0;34m(\u001b[0m\u001b[0;34m)\u001b[0m\u001b[0;34m\u001b[0m\u001b[0;34m\u001b[0m\u001b[0m\n",
      "\u001b[0;32m/opt/conda/lib/python3.7/site-packages/google/api_core/retry.py\u001b[0m in \u001b[0;36mretry_wrapped_func\u001b[0;34m(*args, **kwargs)\u001b[0m\n\u001b[1;32m    352\u001b[0m                 \u001b[0msleep_generator\u001b[0m\u001b[0;34m,\u001b[0m\u001b[0;34m\u001b[0m\u001b[0;34m\u001b[0m\u001b[0m\n\u001b[1;32m    353\u001b[0m                 \u001b[0mself\u001b[0m\u001b[0;34m.\u001b[0m\u001b[0m_timeout\u001b[0m\u001b[0;34m,\u001b[0m\u001b[0;34m\u001b[0m\u001b[0;34m\u001b[0m\u001b[0m\n\u001b[0;32m--> 354\u001b[0;31m                 \u001b[0mon_error\u001b[0m\u001b[0;34m=\u001b[0m\u001b[0mon_error\u001b[0m\u001b[0;34m,\u001b[0m\u001b[0;34m\u001b[0m\u001b[0;34m\u001b[0m\u001b[0m\n\u001b[0m\u001b[1;32m    355\u001b[0m             )\n\u001b[1;32m    356\u001b[0m \u001b[0;34m\u001b[0m\u001b[0m\n",
      "\u001b[0;32m/opt/conda/lib/python3.7/site-packages/google/api_core/retry.py\u001b[0m in \u001b[0;36mretry_target\u001b[0;34m(target, predicate, sleep_generator, timeout, on_error, **kwargs)\u001b[0m\n\u001b[1;32m    189\u001b[0m     \u001b[0;32mfor\u001b[0m \u001b[0msleep\u001b[0m \u001b[0;32min\u001b[0m \u001b[0msleep_generator\u001b[0m\u001b[0;34m:\u001b[0m\u001b[0;34m\u001b[0m\u001b[0;34m\u001b[0m\u001b[0m\n\u001b[1;32m    190\u001b[0m         \u001b[0;32mtry\u001b[0m\u001b[0;34m:\u001b[0m\u001b[0;34m\u001b[0m\u001b[0;34m\u001b[0m\u001b[0m\n\u001b[0;32m--> 191\u001b[0;31m             \u001b[0;32mreturn\u001b[0m \u001b[0mtarget\u001b[0m\u001b[0;34m(\u001b[0m\u001b[0;34m)\u001b[0m\u001b[0;34m\u001b[0m\u001b[0;34m\u001b[0m\u001b[0m\n\u001b[0m\u001b[1;32m    192\u001b[0m \u001b[0;34m\u001b[0m\u001b[0m\n\u001b[1;32m    193\u001b[0m         \u001b[0;31m# pylint: disable=broad-except\u001b[0m\u001b[0;34m\u001b[0m\u001b[0;34m\u001b[0m\u001b[0;34m\u001b[0m\u001b[0m\n",
      "\u001b[0;32m/opt/conda/lib/python3.7/site-packages/google/cloud/_http/__init__.py\u001b[0m in \u001b[0;36mapi_request\u001b[0;34m(self, method, path, query_params, data, content_type, headers, api_base_url, api_version, expect_json, _target_object, timeout, extra_api_info)\u001b[0m\n\u001b[1;32m    492\u001b[0m \u001b[0;34m\u001b[0m\u001b[0m\n\u001b[1;32m    493\u001b[0m         \u001b[0;32mif\u001b[0m \u001b[0;32mnot\u001b[0m \u001b[0;36m200\u001b[0m \u001b[0;34m<=\u001b[0m \u001b[0mresponse\u001b[0m\u001b[0;34m.\u001b[0m\u001b[0mstatus_code\u001b[0m \u001b[0;34m<\u001b[0m \u001b[0;36m300\u001b[0m\u001b[0;34m:\u001b[0m\u001b[0;34m\u001b[0m\u001b[0;34m\u001b[0m\u001b[0m\n\u001b[0;32m--> 494\u001b[0;31m             \u001b[0;32mraise\u001b[0m \u001b[0mexceptions\u001b[0m\u001b[0;34m.\u001b[0m\u001b[0mfrom_http_response\u001b[0m\u001b[0;34m(\u001b[0m\u001b[0mresponse\u001b[0m\u001b[0;34m)\u001b[0m\u001b[0;34m\u001b[0m\u001b[0;34m\u001b[0m\u001b[0m\n\u001b[0m\u001b[1;32m    495\u001b[0m \u001b[0;34m\u001b[0m\u001b[0m\n\u001b[1;32m    496\u001b[0m         \u001b[0;32mif\u001b[0m \u001b[0mexpect_json\u001b[0m \u001b[0;32mand\u001b[0m \u001b[0mresponse\u001b[0m\u001b[0;34m.\u001b[0m\u001b[0mcontent\u001b[0m\u001b[0;34m:\u001b[0m\u001b[0;34m\u001b[0m\u001b[0;34m\u001b[0m\u001b[0m\n",
      "\u001b[0;31mForbidden\u001b[0m: 403 POST https://bigquery.googleapis.com/bigquery/v2/projects/ford-82e2b9bf5ee42f7db2a764b1/jobs?prettyPrint=false: Access Denied: Project ford-82e2b9bf5ee42f7db2a764b1: User does not have bigquery.jobs.create permission in project ford-82e2b9bf5ee42f7db2a764b1.\n\nLocation: None\nJob ID: c3a10751-fc91-423f-aa98-a77a71f5b330\n"
     ]
    }
   ],
   "source": [
    "from google.cloud import bigquery\n",
    "client = bigquery.Client(\"ford-82e2b9bf5ee42f7db2a764b1\")\n",
    "sql = \"\"\"\n",
    "SELECT * FROM `ford-82e2b9bf5ee42f7db2a764b1.team_yabus.final`;\n",
    "\"\"\"\n",
    "\n",
    "df = client.query(sql).to_dataframe()"
   ]
  },
  {
   "cell_type": "code",
   "execution_count": null,
   "id": "d8f45d95-4c1a-48c3-a085-17986be3ff53",
   "metadata": {},
   "outputs": [],
   "source": [
    "df.head()"
   ]
  },
  {
   "cell_type": "code",
   "execution_count": null,
   "id": "6602ee1c-9651-4b49-abb3-ec90f62a0386",
   "metadata": {},
   "outputs": [],
   "source": [
    "df.shape"
   ]
  },
  {
   "cell_type": "code",
   "execution_count": null,
   "id": "2198b8b3-d08b-440a-86c7-9a92d187e459",
   "metadata": {},
   "outputs": [],
   "source": [
    "df.columns"
   ]
  },
  {
   "cell_type": "code",
   "execution_count": null,
   "id": "64cc0c00-a66d-462f-978d-53d368d97907",
   "metadata": {},
   "outputs": [],
   "source": [
    "# which of the model has the highest appearences in the dataset\n",
    "df['model'].value_counts(normalize=True)"
   ]
  },
  {
   "cell_type": "code",
   "execution_count": null,
   "id": "2fff66a5-9fc5-4fc1-ac1f-2d0706919b31",
   "metadata": {},
   "outputs": [],
   "source": [
    "# which of the feature has the highest appearences in the dataset\n",
    "df['feature_name'].value_counts(normalize=True)"
   ]
  },
  {
   "cell_type": "code",
   "execution_count": null,
   "id": "2290ac00-3b4c-4591-beef-0976d45dca71",
   "metadata": {},
   "outputs": [],
   "source": [
    "print(df['feature_name'].nunique())\n",
    "df['feature_name'].unique()"
   ]
  },
  {
   "cell_type": "code",
   "execution_count": null,
   "id": "33088ee5-f551-41db-a014-e90433733adc",
   "metadata": {},
   "outputs": [],
   "source": [
    "print(df['country_code'].nunique())\n",
    "df['country_code'].unique()"
   ]
  },
  {
   "cell_type": "code",
   "execution_count": null,
   "id": "599841df-aab3-4098-9bdb-398e0b0503e0",
   "metadata": {},
   "outputs": [],
   "source": [
    "print(df['assigned_dlr_facing_reg_nm'].nunique())\n",
    "df['assigned_dlr_facing_reg_nm'].unique()"
   ]
  },
  {
   "cell_type": "code",
   "execution_count": null,
   "id": "3e78a751-e457-4d87-9f21-e034dfb1ff89",
   "metadata": {},
   "outputs": [],
   "source": [
    "print(df['platform'].nunique())\n",
    "df['platform'].unique()"
   ]
  },
  {
   "cell_type": "code",
   "execution_count": null,
   "id": "bd87cc84-a1aa-44ae-a5f0-36aaa39ea36b",
   "metadata": {},
   "outputs": [],
   "source": [
    "df[[\n",
    "    'make', 'model', 'model_year',\n",
    "    'feature_usage_count', 'feature_usage_trips','total_trips', 'feature_name','country_code',\n",
    "    'assigned_dlr_facing_reg_nm', 'contribution_margin', 'platform'\n",
    "]]"
   ]
  },
  {
   "cell_type": "code",
   "execution_count": null,
   "id": "81568e4b-b206-477a-846c-e626794ec0be",
   "metadata": {},
   "outputs": [],
   "source": [
    "df1 = df[[\n",
    "    'vin','make', 'model', 'model_year',\n",
    "    'feature_usage_count', 'feature_usage_trips','total_trips', 'feature_name','country_code',\n",
    "    'assigned_dlr_facing_reg_nm', 'contribution_margin', 'platform'\n",
    "]]"
   ]
  },
  {
   "cell_type": "code",
   "execution_count": null,
   "id": "e946f013-8c80-4b9b-bec2-7b12cf50ef3a",
   "metadata": {},
   "outputs": [],
   "source": [
    "df1[\n",
    "    ['feature_usage_count','feature_usage_trips','total_trips','contribution_margin']\n",
    "] = df1[\n",
    "    ['feature_usage_count','feature_usage_trips','total_trips','contribution_margin']\n",
    "].astype(float)"
   ]
  },
  {
   "cell_type": "code",
   "execution_count": null,
   "id": "de874588-75d4-4e29-993e-c5b30168ae4d",
   "metadata": {},
   "outputs": [],
   "source": [
    "df1.head()"
   ]
  },
  {
   "cell_type": "code",
   "execution_count": null,
   "id": "f82816b8-9343-4f6e-8199-73acac3a5252",
   "metadata": {},
   "outputs": [],
   "source": [
    "df1['model'].unique()"
   ]
  },
  {
   "cell_type": "code",
   "execution_count": null,
   "id": "303e5f58-fdff-4371-88f3-8c0b970d2de6",
   "metadata": {},
   "outputs": [],
   "source": [
    "mybasket = df1[df1['model']=='MUSTANG MACH-E'].groupby(['vin','feature_name'])['feature_usage_trips']\\\n",
    "                                        .sum().unstack().reset_index().fillna(0).set_index('vin')\n",
    "mybasket"
   ]
  },
  {
   "cell_type": "code",
   "execution_count": null,
   "id": "d5eb058d-30cb-4dba-8906-3bcf2027e853",
   "metadata": {},
   "outputs": [],
   "source": [
    "def hot_encode(x):\n",
    "    if(x<= 0):\n",
    "        return 0\n",
    "    if(x>= 1):\n",
    "        return 1    "
   ]
  },
  {
   "cell_type": "code",
   "execution_count": null,
   "id": "d5f771b4-352d-4d34-823d-c2cd74e6831d",
   "metadata": {},
   "outputs": [],
   "source": [
    "my_basket_sets = mybasket.applymap(hot_encode)\n",
    "my_basket_sets"
   ]
  },
  {
   "cell_type": "markdown",
   "id": "9ef6e124-a8eb-4a98-bf96-4d8799beb08b",
   "metadata": {},
   "source": [
    "# Training the model"
   ]
  },
  {
   "cell_type": "code",
   "execution_count": null,
   "id": "d6b0569e-ab2d-4e18-8649-563aa564e82e",
   "metadata": {},
   "outputs": [],
   "source": [
    "# generating frequent item sets\n",
    "my_frequent_items = apriori(my_basket_sets.fillna(0),min_support=0.02,use_colnames=True)\n",
    "my_frequent_items"
   ]
  },
  {
   "cell_type": "code",
   "execution_count": null,
   "id": "8231dff7-fee6-42f8-85cf-c221cd5f4365",
   "metadata": {},
   "outputs": [],
   "source": [
    "my_rules = association_rules(my_frequent_items,metric='lift')\n",
    "my_rules"
   ]
  },
  {
   "cell_type": "markdown",
   "id": "485e763f-468e-4349-af43-e768b7d8751f",
   "metadata": {},
   "source": [
    "# Creating the function which yields apriori algo and rules"
   ]
  },
  {
   "cell_type": "code",
   "execution_count": null,
   "id": "1fe93089-1771-4b42-9fb1-0fc28bd04c02",
   "metadata": {},
   "outputs": [],
   "source": [
    "def apriori_association(model_name:str):\n",
    "    df1 = df[[\n",
    "    'vin','make', 'model', 'model_year',\n",
    "    'feature_usage_count', 'feature_usage_trips','total_trips', 'feature_name','country_code',\n",
    "    'assigned_dlr_facing_reg_nm', 'contribution_margin', 'platform']]\n",
    "    df1[\n",
    "    ['feature_usage_count','feature_usage_trips','total_trips','contribution_margin']\n",
    "] = df1[\n",
    "    ['feature_usage_count','feature_usage_trips','total_trips','contribution_margin']\n",
    "].astype(float)\n",
    "    mybasket = df1[df1['model']==model_name].groupby(['vin','feature_name'])['contribution_margin']\\\n",
    "                                 .sum().unstack().reset_index().fillna(0).set_index('vin')\n",
    "    my_basket_sets = mybasket.applymap(hot_encode)\n",
    "    my_frequent_items = apriori(my_basket_sets,min_support=0.02,use_colnames=True)\n",
    "    my_rules = association_rules(my_frequent_items.fillna(0),metric='lift')\n",
    "    return my_frequent_items,my_rules"
   ]
  },
  {
   "cell_type": "markdown",
   "id": "80627693-8a17-4837-b746-4f40e7f9c9ee",
   "metadata": {},
   "source": [
    "# F-Series feature association rules"
   ]
  },
  {
   "cell_type": "code",
   "execution_count": null,
   "id": "ecc5b5b8-2959-4fb0-b50b-8e9d0baa0ec3",
   "metadata": {},
   "outputs": [],
   "source": [
    "# F-series\n",
    "f_frequent_items,f_my_rules = apriori_association(model_name='F-SERIES')"
   ]
  },
  {
   "cell_type": "code",
   "execution_count": null,
   "id": "a92f4c04-90ff-41cb-b940-a235db039f72",
   "metadata": {},
   "outputs": [],
   "source": [
    "f_frequent_items"
   ]
  },
  {
   "cell_type": "code",
   "execution_count": null,
   "id": "59707b0e-68ad-42c0-bfde-b8464f78ed96",
   "metadata": {},
   "outputs": [],
   "source": [
    "f_my_rules"
   ]
  },
  {
   "cell_type": "markdown",
   "id": "c5ce8752-ae18-4ad3-96aa-79a75ae78af2",
   "metadata": {},
   "source": [
    "# Mustang Mach-E feature association"
   ]
  },
  {
   "cell_type": "code",
   "execution_count": null,
   "id": "25cc6a9a-d2c0-4699-9004-c079f7a7a360",
   "metadata": {},
   "outputs": [],
   "source": [
    "mustang_frequent_items,mustang_my_rules = apriori_association('MUSTANG MACH-E')"
   ]
  },
  {
   "cell_type": "code",
   "execution_count": null,
   "id": "2f732fdc-cba4-4e9a-8eb8-2de5c9a4dfc1",
   "metadata": {},
   "outputs": [],
   "source": [
    "mustang_frequent_items"
   ]
  },
  {
   "cell_type": "code",
   "execution_count": null,
   "id": "2f8c4cbc-dd53-40ac-bd2f-40cad7973b9c",
   "metadata": {},
   "outputs": [],
   "source": [
    "mustang_my_rules"
   ]
  },
  {
   "cell_type": "markdown",
   "id": "99f11b0c-2914-4ee6-ac1f-9a216f1348ef",
   "metadata": {},
   "source": [
    "# Clustering customer w.r.t all the models"
   ]
  },
  {
   "cell_type": "code",
   "execution_count": null,
   "id": "6fcb229f-1bca-410a-8d5f-5d2ae0b4fa3a",
   "metadata": {},
   "outputs": [],
   "source": [
    "import pandas as pd\n",
    "import numpy as np\n",
    "import matplotlib.pyplot as plt"
   ]
  },
  {
   "cell_type": "code",
   "execution_count": null,
   "id": "107ff777-993a-40c1-826e-f112c36efc75",
   "metadata": {},
   "outputs": [],
   "source": [
    "cust_feature = pd.crosstab(df1['vin'],df1['feature_name'],aggfunc='sum',values=df1['feature_usage_trips'])\n",
    "cust_feature = cust_feature.fillna(0)"
   ]
  },
  {
   "cell_type": "code",
   "execution_count": null,
   "id": "c9ad0013-4542-4501-a216-ca4cc0d27684",
   "metadata": {},
   "outputs": [],
   "source": [
    "cust_feature"
   ]
  },
  {
   "cell_type": "code",
   "execution_count": null,
   "id": "9695c10c-b46d-4172-a7bf-d2f332f67ad3",
   "metadata": {},
   "outputs": [],
   "source": [
    "from sklearn.decomposition import PCA\n",
    "from sklearn.preprocessing import StandardScaler\n",
    "scaler = StandardScaler()\n",
    "scaled_cust_feature = scaler.fit_transform(cust_feature)\n",
    "pca = PCA(n_components=6)\n",
    "pca.fit(scaled_cust_feature)\n",
    "pca_samples = pca.transform(scaled_cust_feature)\n",
    "ps = pd.DataFrame(pca_samples)\n",
    "ps.head()"
   ]
  },
  {
   "cell_type": "code",
   "execution_count": null,
   "id": "e092aeb7-6c78-4fcd-8062-4c1682aeec35",
   "metadata": {},
   "outputs": [],
   "source": [
    "y = pca.explained_variance_ratio_\n",
    "plt.bar(x=range(len(y)),height=y)\n",
    "plt.show()"
   ]
  },
  {
   "cell_type": "code",
   "execution_count": null,
   "id": "3e25b0de-6b7c-40d9-80a1-199c3936b64b",
   "metadata": {},
   "outputs": [],
   "source": [
    "# selecting continous variables for clustering\n",
    "df2 = df[['feature_usage_count', 'feature_usage_trips',\n",
    "       'total_trips','vehicle_mileage_km','contribution_margin']]"
   ]
  },
  {
   "cell_type": "code",
   "execution_count": null,
   "id": "0f945df8-3320-44db-a0f1-d3ef18b81460",
   "metadata": {},
   "outputs": [],
   "source": [
    "from sklearn.preprocessing import StandardScaler"
   ]
  },
  {
   "cell_type": "code",
   "execution_count": null,
   "id": "404bf0bb-fb4c-4d7e-a386-2e089d449b2d",
   "metadata": {},
   "outputs": [],
   "source": [
    "scaler = StandardScaler()\n",
    "scaled_df = scaler.fit_transform(df2)\n",
    "scaled_df"
   ]
  },
  {
   "cell_type": "code",
   "execution_count": null,
   "id": "2e68b2b8-883c-42c8-bb4e-f1ddee067ce3",
   "metadata": {},
   "outputs": [],
   "source": [
    "pca = PCA(n_components=3)\n",
    "pca.fit(scaled_cust_feature)\n",
    "pca_samples = pca.transform(scaled_cust_feature)\n",
    "ps = pd.DataFrame(pca_samples)\n",
    "ps.head()"
   ]
  },
  {
   "cell_type": "code",
   "execution_count": null,
   "id": "c4f10e73-1f85-4245-8ccb-cb2e40e8b2ac",
   "metadata": {},
   "outputs": [],
   "source": [
    "ps.shape"
   ]
  },
  {
   "cell_type": "code",
   "execution_count": null,
   "id": "cf34be25-3cf8-4966-a04c-8ac33e14e1e5",
   "metadata": {},
   "outputs": [],
   "source": [
    "scaled_cust_feature.shape"
   ]
  },
  {
   "cell_type": "code",
   "execution_count": null,
   "id": "23056013-3f6a-48a1-b5f3-74fb0aba7bc3",
   "metadata": {},
   "outputs": [],
   "source": [
    "from sklearn.cluster import KMeans\n",
    "#initialize kmeans parameters\n",
    "kmeans_kwargs = {\n",
    "\"init\": \"random\",\n",
    "\"n_init\": 10,\n",
    "\"random_state\": 1,\n",
    "}\n",
    "\n",
    "#create list to hold SSE values for each k\n",
    "sse = []\n",
    "for k in range(1, 8):\n",
    "    kmeans = KMeans(n_clusters=k, **kmeans_kwargs)\n",
    "    kmeans.fit(ps)\n",
    "    sse.append(kmeans.inertia_)\n",
    "\n",
    "#visualize results\n",
    "plt.plot(range(1, 8), sse)\n",
    "plt.xticks(range(1, 8))\n",
    "plt.xlabel(\"Number of Clusters\")\n",
    "plt.ylabel(\"SSE\")\n",
    "plt.show()"
   ]
  },
  {
   "cell_type": "code",
   "execution_count": null,
   "id": "e5031f78-97f2-479e-84fc-491d66f47fd6",
   "metadata": {},
   "outputs": [],
   "source": [
    "#instantiate the k-means class, using optimal number of clusters\n",
    "kmeans = KMeans(init=\"random\", n_clusters=4, n_init=10, random_state=1)\n",
    "\n",
    "#fit k-means algorithm to data\n",
    "kmeans.fit(ps)\n",
    "\n",
    "#view cluster assignments for each observation\n",
    "label = kmeans.labels_\n",
    "\n",
    "final_df = pd.concat(\n",
    "    [\n",
    "        pd.DataFrame(scaled_cust_feature,columns=cust_feature.columns).reset_index(drop=True),\n",
    "        pd.DataFrame(ps)\n",
    "    ],axis=1)\n",
    "\n",
    "final_df.columns.values[-3:] = ['comp1','comp2','comp3']\n",
    "final_df['label'] = label"
   ]
  },
  {
   "cell_type": "code",
   "execution_count": null,
   "id": "5e7cda96-d6d2-4b43-8c13-8c6b542d9fab",
   "metadata": {},
   "outputs": [],
   "source": [
    "import seaborn as sns\n",
    "x_axis = final_df['comp2']\n",
    "y_axis = final_df['comp1']\n",
    "\n",
    "sns.scatterplot(x=x_axis,y=y_axis,hue=final_df['label'])"
   ]
  },
  {
   "cell_type": "code",
   "execution_count": null,
   "id": "c46da1ec-a4c5-4a30-a4b4-c198d936364c",
   "metadata": {},
   "outputs": [],
   "source": [
    "import seaborn as sns\n",
    "x_axis = final_df['comp2']\n",
    "y_axis = final_df['comp3']\n",
    "\n",
    "sns.scatterplot(x=x_axis,y=y_axis,hue=final_df['label'])"
   ]
  },
  {
   "cell_type": "code",
   "execution_count": null,
   "id": "a7aed733-10ae-434c-9bd1-ec115488fd50",
   "metadata": {},
   "outputs": [],
   "source": [
    "import seaborn as sns\n",
    "x_axis = final_df['comp1']\n",
    "y_axis = final_df['comp3']\n",
    "\n",
    "sns.scatterplot(x=x_axis,y=y_axis,hue=final_df['label'])"
   ]
  },
  {
   "cell_type": "markdown",
   "id": "8275b29d-63c8-4f17-9d68-a3668768d4c6",
   "metadata": {},
   "source": [
    "# clustering Mustang Mach-E customers"
   ]
  },
  {
   "cell_type": "code",
   "execution_count": null,
   "id": "8f73bb94-fff1-4e78-a063-fceae68f5462",
   "metadata": {},
   "outputs": [],
   "source": [
    "cust_feature = pd.crosstab(df1[df1['model']=='MUSTANG MACH-E']['vin'],df1[df1['model']=='MUSTANG MACH-E']['feature_name'],\n",
    "                           aggfunc='sum',values=df1[df1['model']=='MUSTANG MACH-E']['feature_usage_trips'])\n",
    "cust_feature = cust_feature.fillna(0)\n",
    "scaler = StandardScaler()\n",
    "scaled_cust_feature = scaler.fit_transform(cust_feature)\n",
    "pca = PCA(n_components=6)\n",
    "pca.fit(scaled_cust_feature)\n",
    "pca_samples = pca.transform(scaled_cust_feature)\n",
    "ps = pd.DataFrame(pca_samples)\n",
    "ps.head()\n",
    "\n",
    "#initialize kmeans parameters\n",
    "kmeans_kwargs = {\n",
    "\"init\": \"random\",\n",
    "\"n_init\": 10,\n",
    "\"random_state\": 1,\n",
    "}\n",
    "\n",
    "#create list to hold SSE values for each k\n",
    "sse = []\n",
    "for k in range(1, 8):\n",
    "    kmeans = KMeans(n_clusters=k, **kmeans_kwargs)\n",
    "    kmeans.fit(ps)\n",
    "    sse.append(kmeans.inertia_)\n",
    "\n",
    "#visualize results\n",
    "plt.plot(range(1, 8), sse)\n",
    "plt.xticks(range(1, 8))\n",
    "plt.xlabel(\"Number of Clusters\")\n",
    "plt.ylabel(\"SSE\")\n",
    "plt.show()\n",
    "\n",
    "#instantiate the k-means class, using optimal number of clusters\n",
    "kmeans = KMeans(init=\"random\", n_clusters=4, n_init=10, random_state=1)\n",
    "\n",
    "#fit k-means algorithm to data\n",
    "kmeans.fit(ps)\n",
    "\n",
    "#view cluster assignments for each observation\n",
    "label = kmeans.labels_\n",
    "\n",
    "final_df = pd.concat(\n",
    "    [\n",
    "        pd.DataFrame(scaled_cust_feature,columns=cust_feature.columns).reset_index(drop=True),\n",
    "        pd.DataFrame(ps)\n",
    "    ],axis=1)\n",
    "\n",
    "final_df.columns.values[-3:] = ['comp1','comp2','comp3']\n",
    "final_df['label'] = label\n",
    "\n",
    "x_axis = final_df['comp2']\n",
    "y_axis = final_df['comp1']\n",
    "sns.scatterplot(x=x_axis,y=y_axis,hue=final_df['label'])\n",
    "plt.show()\n",
    "\n",
    "x_axis = final_df['comp2']\n",
    "y_axis = final_df['comp3']\n",
    "sns.scatterplot(x=x_axis,y=y_axis,hue=final_df['label'])\n",
    "plt.show()\n",
    "\n",
    "x_axis = final_df['comp1']\n",
    "y_axis = final_df['comp3']\n",
    "sns.scatterplot(x=x_axis,y=y_axis,hue=final_df['label'])\n",
    "plt.show()"
   ]
  },
  {
   "cell_type": "markdown",
   "id": "a84dd3e8-e697-444d-82c7-0744c4b59cd0",
   "metadata": {},
   "source": [
    "# clustering F-Series customers"
   ]
  },
  {
   "cell_type": "code",
   "execution_count": null,
   "id": "c04822b4-4982-4ee4-b9b2-3ee457cb0192",
   "metadata": {},
   "outputs": [],
   "source": [
    "cust_feature = pd.crosstab(df1[df1['model']=='F-SERIES']['vin'],df1[df1['model']=='F-SERIES']['feature_name'],\n",
    "                           aggfunc='sum',values=df1[df1['model']=='F-SERIES']['feature_usage_trips'])\n",
    "cust_feature = cust_feature.fillna(0)\n",
    "scaler = StandardScaler()\n",
    "scaled_cust_feature = scaler.fit_transform(cust_feature)\n",
    "pca = PCA(n_components=6)\n",
    "pca.fit(scaled_cust_feature)\n",
    "pca_samples = pca.transform(scaled_cust_feature)\n",
    "ps = pd.DataFrame(pca_samples)\n",
    "ps.head()\n",
    "\n",
    "#initialize kmeans parameters\n",
    "kmeans_kwargs = {\n",
    "\"init\": \"random\",\n",
    "\"n_init\": 10,\n",
    "\"random_state\": 1,\n",
    "}\n",
    "\n",
    "#create list to hold SSE values for each k\n",
    "sse = []\n",
    "for k in range(1, 8):\n",
    "    kmeans = KMeans(n_clusters=k, **kmeans_kwargs)\n",
    "    kmeans.fit(ps)\n",
    "    sse.append(kmeans.inertia_)\n",
    "\n",
    "#visualize results\n",
    "plt.plot(range(1, 8), sse)\n",
    "plt.xticks(range(1, 8))\n",
    "plt.xlabel(\"Number of Clusters\")\n",
    "plt.ylabel(\"SSE\")\n",
    "plt.show()\n",
    "\n",
    "#instantiate the k-means class, using optimal number of clusters\n",
    "kmeans = KMeans(init=\"random\", n_clusters=4, n_init=10, random_state=1)\n",
    "\n",
    "#fit k-means algorithm to data\n",
    "kmeans.fit(ps)\n",
    "\n",
    "#view cluster assignments for each observation\n",
    "label = kmeans.labels_\n",
    "\n",
    "final_df = pd.concat(\n",
    "    [\n",
    "        pd.DataFrame(scaled_cust_feature,columns=cust_feature.columns).reset_index(drop=True),\n",
    "        pd.DataFrame(ps)\n",
    "    ],axis=1)\n",
    "\n",
    "final_df.columns.values[-3:] = ['comp1','comp2','comp3']\n",
    "final_df['label'] = label\n",
    "\n",
    "x_axis = final_df['comp2']\n",
    "y_axis = final_df['comp1']\n",
    "sns.scatterplot(x=x_axis,y=y_axis,hue=final_df['label'])\n",
    "plt.show()\n",
    "\n",
    "x_axis = final_df['comp2']\n",
    "y_axis = final_df['comp3']\n",
    "sns.scatterplot(x=x_axis,y=y_axis,hue=final_df['label'])\n",
    "plt.show()\n",
    "\n",
    "x_axis = final_df['comp1']\n",
    "y_axis = final_df['comp3']\n",
    "sns.scatterplot(x=x_axis,y=y_axis,hue=final_df['label'])\n",
    "plt.show()"
   ]
  }
 ],
 "metadata": {
  "kernelspec": {
   "display_name": "xgb_venv",
   "language": "python",
   "name": "python3"
  },
  "language_info": {
   "codemirror_mode": {
    "name": "ipython",
    "version": 3
   },
   "file_extension": ".py",
   "mimetype": "text/x-python",
   "name": "python",
   "nbconvert_exporter": "python",
   "pygments_lexer": "ipython3",
   "version": "3.8.13 | packaged by conda-forge | (default, Mar 25 2022, 05:59:45) [MSC v.1929 64 bit (AMD64)]"
  },
  "vscode": {
   "interpreter": {
    "hash": "abd2653ac7560c9e6920aa7eba80bbf37656706cf8818b349a55c85ceb39ec3a"
   }
  }
 },
 "nbformat": 4,
 "nbformat_minor": 5
}
